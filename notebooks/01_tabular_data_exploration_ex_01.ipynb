{
 "cells": [
  {
   "cell_type": "markdown",
   "metadata": {},
   "source": [
    "# 📝 Exercise M1.01"
   ]
  },
  {
   "cell_type": "markdown",
   "metadata": {},
   "source": [
    "Imagine we are interested in predicting penguins species based on two of their\n",
    "body measurements: culmen length and culmen depth. First we want to do some\n",
    "data exploration to get a feel for the data.\n",
    "\n",
    "What are the features? What is the target?"
   ]
  },
  {
   "cell_type": "markdown",
   "metadata": {},
   "source": [
    "The data is located in `../datasets/penguins_classification.csv`, load it with\n",
    "`pandas` into a `DataFrame`."
   ]
  },
  {
   "cell_type": "code",
   "execution_count": 2,
   "metadata": {},
   "outputs": [
    {
     "data": {
      "text/plain": [
       "<bound method NDFrame.head of      Culmen Length (mm)  Culmen Depth (mm)    Species\n",
       "0                  39.1               18.7     Adelie\n",
       "1                  39.5               17.4     Adelie\n",
       "2                  40.3               18.0     Adelie\n",
       "3                  36.7               19.3     Adelie\n",
       "4                  39.3               20.6     Adelie\n",
       "..                  ...                ...        ...\n",
       "337                55.8               19.8  Chinstrap\n",
       "338                43.5               18.1  Chinstrap\n",
       "339                49.6               18.2  Chinstrap\n",
       "340                50.8               19.0  Chinstrap\n",
       "341                50.2               18.7  Chinstrap\n",
       "\n",
       "[342 rows x 3 columns]>"
      ]
     },
     "execution_count": 2,
     "metadata": {},
     "output_type": "execute_result"
    }
   ],
   "source": [
    "# Write your code here.\n",
    "\n",
    "import pandas as pd\n",
    "\n",
    "data = pd.read_csv(\"../datasets/penguins_classification.csv\")\n",
    "data.head"
   ]
  },
  {
   "cell_type": "markdown",
   "metadata": {},
   "source": [
    "Show a few samples of the data.\n",
    "\n",
    "How many features are numerical? How many features are categorical?"
   ]
  },
  {
   "cell_type": "code",
   "execution_count": null,
   "metadata": {},
   "outputs": [],
   "source": [
    "# Write your code here."
   ]
  },
  {
   "cell_type": "markdown",
   "metadata": {},
   "source": [
    "What are the different penguins species available in the dataset and how many\n",
    "samples of each species are there? Hint: select the right column and use the\n",
    "[`value_counts`](https://pandas.pydata.org/pandas-docs/stable/reference/api/pandas.Series.value_counts.html)\n",
    "method."
   ]
  },
  {
   "cell_type": "code",
   "execution_count": null,
   "metadata": {},
   "outputs": [],
   "source": [
    "# Write your code here.\n",
    "data."
   ]
  },
  {
   "cell_type": "markdown",
   "metadata": {},
   "source": [
    "Plot histograms for the numerical features"
   ]
  },
  {
   "cell_type": "code",
   "execution_count": null,
   "metadata": {},
   "outputs": [],
   "source": [
    "# Write your code here."
   ]
  },
  {
   "cell_type": "markdown",
   "metadata": {},
   "source": [
    "Show features distribution for each class. Hint: use\n",
    "[`seaborn.pairplot`](https://seaborn.pydata.org/generated/seaborn.pairplot.html)"
   ]
  },
  {
   "cell_type": "code",
   "execution_count": null,
   "metadata": {},
   "outputs": [],
   "source": [
    "# Write your code here."
   ]
  },
  {
   "cell_type": "markdown",
   "metadata": {},
   "source": [
    "Looking at these distributions, how hard do you think it will be to classify\n",
    "the penguins only using `\"culmen depth\"` and `\"culmen length\"`?"
   ]
  }
 ],
 "metadata": {
  "jupytext": {
   "encoding": "# -*- coding: utf-8 -*-",
   "main_language": "python"
  },
  "kernelspec": {
   "display_name": "scikit-learn-course",
   "language": "python",
   "name": "python3"
  },
  "language_info": {
   "codemirror_mode": {
    "name": "ipython",
    "version": 3
   },
   "file_extension": ".py",
   "mimetype": "text/x-python",
   "name": "python",
   "nbconvert_exporter": "python",
   "pygments_lexer": "ipython3",
   "version": "3.11.0"
  },
  "vscode": {
   "interpreter": {
    "hash": "2b02b301076354958a50b2dbd4aea8c06f0d86d3ccabc3322f0cbea9ef0db429"
   }
  }
 },
 "nbformat": 4,
 "nbformat_minor": 5
}
